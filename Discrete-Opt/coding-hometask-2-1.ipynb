{
 "cells": [
  {
   "cell_type": "markdown",
   "metadata": {
    "deletable": true,
    "editable": true
   },
   "source": [
    "# Задание по курсу «Дискретная оптимизация», МФТИ, весна 2017"
   ]
  },
  {
   "cell_type": "markdown",
   "metadata": {
    "deletable": true,
    "editable": true
   },
   "source": [
    "## Задача 2-1. Применяем простейший локальный поиск.\n",
    "\n",
    "В этой задаче Вам предлагается попробовать стандартную технику локального поиска (local search) в применении к задаче о сбалансированном разбиении графа. Мы будем рассматривать безвесовый вариант задачи с параметром балансировки $\\alpha=\\frac{1}{2}$:\n",
    "\n",
    "**Даны:**\n",
    "* $G=(V,E)$ — граф без весов на рёбрах\n",
    "\n",
    "**Найти:**\n",
    "* Разбиение $V=V'\\sqcup V''$, такое, что $V'=\\lfloor |V|/2 \\rfloor$ и число рёбер между $V'$ и $V''$ минимально возможное.\n",
    "\n",
    "Сделайте следующее:\n",
    "* [Скачайте](http://mat.gsia.cmu.edu/COLOR/instances.html#XXMYC) файлы mycielX.col  (`for X in range(1,8)`).  (Если интересно, откуда такие графы берутся и чем интересны, см. конструкцию Зыкова—Мыцельского [здесь](https://docs.com/dainiak/3327).)\n",
    "* Для каждого из графов найдите локальным поиском локально минимальное (по количеству рёбер между частями) разбиение вершин графа на две части, мощности которых отличаются не более чем на единицу. \n",
    "* Ваша функция `basic_local_search` должна принимать на вход граф в формате, предоставляемом функцией `read_col_file`, и возвращать найденное локально минимальное разбиение просто как множество либо список вершин, лежащих в одной любой из двух компонент разбиения."
   ]
  },
  {
   "cell_type": "code",
   "execution_count": 33,
   "metadata": {
    "collapsed": false
   },
   "outputs": [],
   "source": [
    "import random\n",
    "from tqdm import tqdm"
   ]
  },
  {
   "cell_type": "code",
   "execution_count": 49,
   "metadata": {
    "collapsed": true,
    "deletable": true,
    "editable": true
   },
   "outputs": [],
   "source": [
    "def read_col_file(filename: str) -> tuple:\n",
    "    with open(filename, 'r') as file:\n",
    "        vertices, edges = set(), set()\n",
    "        for line in file:\n",
    "            line = line.strip()\n",
    "            if line.startswith('p'):\n",
    "                vertices = set(range(1, int(line.split()[-2]) + 1))\n",
    "            elif line.startswith('e'):\n",
    "                edges.add(tuple(map(int, line.split()[-2:])))\n",
    "        return (vertices, edges)"
   ]
  },
  {
   "cell_type": "code",
   "execution_count": 50,
   "metadata": {
    "collapsed": true
   },
   "outputs": [],
   "source": [
    "def cost_cut(left_set: set, right_set: set, edges:set) -> int:\n",
    "        cost = 0\n",
    "        for edge in edges:\n",
    "            vertex1, vertex2 = edge\n",
    "            if (vertex1 in left_set and vertex2 in right_set) or (vertex1 in right_set and vertex2 in left_set):\n",
    "                cost += 1\n",
    "        return cost"
   ]
  },
  {
   "cell_type": "code",
   "execution_count": 51,
   "metadata": {
    "collapsed": true
   },
   "outputs": [],
   "source": [
    "def get_partition(vertexes):\n",
    "    left = set(random.sample(vertexes, len(vertexes) // 2))\n",
    "    right = vertexes - left \n",
    "    return left, right"
   ]
  },
  {
   "cell_type": "code",
   "execution_count": 72,
   "metadata": {
    "collapsed": false,
    "deletable": true,
    "editable": true
   },
   "outputs": [],
   "source": [
    "def basic_local_search(graph: tuple) -> tuple:\n",
    "    vertices, edges = graph\n",
    "    n = len(vertices)\n",
    "    left, right = random_partition(vertices)\n",
    "    cur_cut_cost = cut_cost(left, right, edges)\n",
    "    while True:\n",
    "        min_new_left, min_new_right, min_new_cut_cost = [], [], cur_cut_cost\n",
    "        for vertex1 in left:\n",
    "            for vertex2 in right:\n",
    "                new_left, new_right = left.copy(), right.copy()\n",
    "                new_left.remove(vertex1)\n",
    "                new_right.remove(vertex2)\n",
    "                new_left.add(vertex2)\n",
    "                new_right.add(vertex1)  \n",
    "                cur_cut_cost = cut_cost(new_left, new_right, edges)\n",
    "                if cur_cut_cost < min_new_cut_cost:\n",
    "                    min_new_left, min_new_right, min_new_cut_cost = new_left, new_right, cur_cut_cost\n",
    "        if min_new_left != []:\n",
    "            left, right = min_new_left, min_new_right\n",
    "            if (len(left) > len(right)):\n",
    "                left, right = right, left\n",
    "            cur_cut_cost = min_new_cut_cost\n",
    "        else:\n",
    "            return (left, right)"
   ]
  },
  {
   "cell_type": "code",
   "execution_count": 80,
   "metadata": {
    "collapsed": false,
    "deletable": true,
    "editable": true
   },
   "outputs": [
    {
     "name": "stdout",
     "output_type": "stream",
     "text": [
      "myciel3.col\n",
      " left = {1, 3, 5, 7, 9} \n",
      " right = {2, 4, 6, 8, 10, 11} \n",
      " cut cost =  8 \n",
      "\n",
      "myciel4.col\n",
      " left = {2, 3, 6, 8, 13, 16, 17, 19, 21, 22, 23} \n",
      " right = {1, 4, 5, 7, 9, 10, 11, 12, 14, 15, 18, 20} \n",
      " cut cost =  29 \n",
      "\n",
      "myciel5.col\n",
      " left = {1, 2, 3, 4, 5, 7, 9, 10, 12, 14, 17, 18, 21, 24, 25, 26, 27, 30, 34, 35, 37, 38, 39} \n",
      " right = {6, 8, 11, 13, 15, 16, 19, 20, 22, 23, 28, 29, 31, 32, 33, 36, 40, 41, 42, 43, 44, 45, 46, 47} \n",
      " cut cost =  96 \n",
      "\n",
      "myciel6.col\n",
      "\n",
      " left = {5, 7, 8, 9, 10, 11, 13, 15, 16, 18, 19, 20, 21, 22, 24, 26, 28, 29, 30, 31, 32, 33, 34, 43, 46, 48, 50, 52, 55, 56, 58, 60, 61, 62, 63, 65, 66, 67, 69, 71, 73, 76, 78, 79, 81, 92, 93} \n",
      " right = {1, 2, 3, 4, 6, 12, 14, 17, 23, 25, 27, 35, 36, 37, 38, 39, 40, 41, 42, 44, 45, 47, 49, 51, 53, 54, 57, 59, 64, 68, 70, 72, 74, 75, 77, 80, 82, 83, 84, 85, 86, 87, 88, 89, 90, 91, 94, 95} \n",
      " cut cost =  297 \n",
      "\n",
      "myciel7.col\n",
      " left = {1, 3, 12, 13, 14, 15, 17, 18, 19, 20, 21, 24, 25, 28, 29, 30, 33, 34, 35, 36, 39, 40, 41, 42, 43, 44, 46, 48, 49, 50, 51, 52, 58, 59, 60, 61, 62, 64, 65, 66, 67, 68, 69, 70, 71, 72, 75, 77, 80, 81, 83, 86, 88, 91, 93, 94, 96, 97, 98, 99, 101, 102, 103, 104, 106, 109, 110, 112, 113, 114, 115, 116, 118, 119, 120, 122, 123, 124, 125, 127, 128, 136, 138, 139, 141, 142, 144, 145, 146, 153, 165, 167, 188, 189, 190} \n",
      " right = {2, 4, 5, 6, 7, 8, 9, 10, 11, 16, 22, 23, 26, 27, 31, 32, 37, 38, 45, 47, 53, 54, 55, 56, 57, 63, 73, 74, 76, 78, 79, 82, 84, 85, 87, 89, 90, 92, 95, 100, 105, 107, 108, 111, 117, 121, 126, 129, 130, 131, 132, 133, 134, 135, 137, 140, 143, 147, 148, 149, 150, 151, 152, 154, 155, 156, 157, 158, 159, 160, 161, 162, 163, 164, 166, 168, 169, 170, 171, 172, 173, 174, 175, 176, 177, 178, 179, 180, 181, 182, 183, 184, 185, 186, 187, 191} \n",
      " cut cost =  920 \n",
      "\n",
      "\n"
     ]
    }
   ],
   "source": [
    "for i in tqdm_notebook(range(3, 8)):\n",
    "    vertices, edges = read_col_file('myciel%d.col'%(i))\n",
    "    left, right = basic_local_search((vertices, edges))\n",
    "    cut_cost_value = cut_cost(left, right, edges)\n",
    "    print('myciel%d.col'%(i))\n",
    "    print(' left =', left, '\\n', 'right =', right, '\\n', \"cut cost = \", cut_cost_value, '\\n')"
   ]
  },
  {
   "cell_type": "code",
   "execution_count": null,
   "metadata": {
    "collapsed": true,
    "deletable": true,
    "editable": true
   },
   "outputs": [],
   "source": []
  }
 ],
 "metadata": {
  "kernelspec": {
   "display_name": "Python [default]",
   "language": "python",
   "name": "python3"
  },
  "language_info": {
   "codemirror_mode": {
    "name": "ipython",
    "version": 3
   },
   "file_extension": ".py",
   "mimetype": "text/x-python",
   "name": "python",
   "nbconvert_exporter": "python",
   "pygments_lexer": "ipython3",
   "version": "3.5.2"
  },
  "widgets": {
   "state": {
    "b7fc270b116b400880360b342e88e9c0": {
     "views": [
      {
       "cell_index": 7
      }
     ]
    }
   },
   "version": "1.2.0"
  }
 },
 "nbformat": 4,
 "nbformat_minor": 2
}
