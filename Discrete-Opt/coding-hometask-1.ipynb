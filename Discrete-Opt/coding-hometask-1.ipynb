{
 "cells": [
  {
   "cell_type": "markdown",
   "metadata": {
    "deletable": true,
    "editable": true
   },
   "source": [
    "# Задание по курсу «Дискретная оптимизация», МФТИ, весна 2017"
   ]
  },
  {
   "cell_type": "markdown",
   "metadata": {
    "deletable": true,
    "editable": true
   },
   "source": [
    "## Задача 1-1\n",
    "## Учимся переводить между decision/evaluation/search на примере Bin Packing\n",
    "\n",
    "**Даны:** \n",
    "* $[w_1, \\dots , w_k], w_i \\in [0, 1]$ — веса грузов  \n",
    "* $n_{\\text{bins}}$ — количество корзин грузоподъемностью 1.\n",
    "\n",
    "Предполагается, что функция `solve_bp_decision(weights, n_bins)` решает «распознавательный» (decision) вариант задачи bin packing. На вход ей подаётся список весов и число корзин. Функция возвращает булевский ответ на вопрос «можно ли заданные веса раскидать по не более чем `n_bins` контейнерам? \n",
    "\n",
    "Напишите содержимое функции `solve_bp_evaluation`, которая возвращает оптимальное число корзин (решает evaluation variant задачи bin packing). \n",
    "\n",
    "Затем напишите содержимое функции `solve_bp_search`, которая возвращает список номеров корзин, которые при каком-нибудь оптимальном распределении присваиваются весам из списка `weights` (корзины нумеруются с единицы). \n",
    "\n",
    "Каждая из следующих функций должна вызывать предыдущую не более чем полиномиальное число раз."
   ]
  },
  {
   "cell_type": "code",
   "execution_count": 7,
   "metadata": {
    "collapsed": false
   },
   "outputs": [],
   "source": [
    "def solve_bp_decision(weights: list, n_bins: int) -> bool:\n",
    "    def able_to_pack(weights: list, bin_cap) -> bool:\n",
    "        return weights == [] or any( \n",
    "            able_to_pack( weights[:-1], bin_cap[:i] + [cap - weights[-1]] + bin_cap[i + 1:] ) \n",
    "            for i, cap in enumerate(bin_cap) if cap >= weights[-1] \n",
    "        )\n",
    "    return able_to_pack( sorted(weights), [1.0] * n_bins )"
   ]
  },
  {
   "cell_type": "code",
   "execution_count": 8,
   "metadata": {
    "collapsed": false
   },
   "outputs": [],
   "source": [
    "def solve_bp_evaluation(weights: list) -> int:\n",
    "    left, right = 0, len(weights)\n",
    "    if left == right:\n",
    "        return 0\n",
    "    while right - left > 1:\n",
    "        mid = (left + right) / 2\n",
    "        if solve_bp_decision(weights, mid):\n",
    "            right = mid\n",
    "        else:\n",
    "            left = mid\n",
    "    return right"
   ]
  },
  {
   "cell_type": "code",
   "execution_count": 9,
   "metadata": {
    "collapsed": false
   },
   "outputs": [],
   "source": [
    "def solve_bp_search(weights: list):\n",
    "    dict.fromkeys(range(len(weights)), -1)\n",
    "    cur_bin = 1\n",
    "    opt_numper = solve_bp_evaluation(weights)\n",
    "    for i in range(len(weights)):\n",
    "        if ans[i] != -1:\n",
    "            continue\n",
    "        ans[i] = cur_bin\n",
    "        for j in range(len(weights)):\n",
    "            if ans[j] != -1:\n",
    "                continue\n",
    "            upd = weights[j]\n",
    "            weights[i] += upd\n",
    "            weights[j] = 0\n",
    "            if solve_bp_evaluation(weights) != opt_numper:\n",
    "                weights[j] = upd\n",
    "                weights[i] -= upd\n",
    "            else:\n",
    "                ans[j] = current_bin\n",
    "        cur_bin += 1\n",
    "    return [item for _, item in sorted(ans.items())]"
   ]
  },
  {
   "cell_type": "code",
   "execution_count": null,
   "metadata": {
    "collapsed": true
   },
   "outputs": [],
   "source": []
  }
 ],
 "metadata": {
  "kernelspec": {
   "display_name": "Python [conda root]",
   "language": "python",
   "name": "conda-root-py"
  },
  "language_info": {
   "codemirror_mode": {
    "name": "ipython",
    "version": 3
   },
   "file_extension": ".py",
   "mimetype": "text/x-python",
   "name": "python",
   "nbconvert_exporter": "python",
   "pygments_lexer": "ipython3",
   "version": "3.5.2"
  }
 },
 "nbformat": 4,
 "nbformat_minor": 0
}
