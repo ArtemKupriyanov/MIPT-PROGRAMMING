{
 "cells": [
  {
   "cell_type": "code",
   "execution_count": 5,
   "metadata": {},
   "outputs": [],
   "source": [
    "import numpy as np\n",
    "import scipy as sp\n",
    "import scipy.stats as sps\n",
    "import matplotlib.pyplot as plt\n",
    "from statsmodels.sandbox.stats.multicomp import multipletests\n",
    "from statsmodels.stats.descriptivestats import sign_test\n",
    "import seaborn as sns\n",
    "import pandas as pd\n",
    "\n",
    "%matplotlib inline"
   ]
  },
  {
   "cell_type": "markdown",
   "metadata": {},
   "source": [
    "## Задача 1"
   ]
  },
  {
   "cell_type": "markdown",
   "metadata": {},
   "source": [
    "**Доказательство:**\n",
    "\n",
    "Рассмотрим правую часть уравнения из условия:\n",
    "\n",
    "$$\\bar{\\rho_S} = \\frac{1}{n}\\sum\\limits^{n}_{i = 1} \\rho_i =  \\frac{1}{n}\\sum\\limits^{n}_{i = 1} \\left(1 - \\frac{6}{k^3 - k}\\sum\\limits^{k}_{j = 1} (R_{ij} - j)^2 \\right) = \\frac{1}{n}\\sum\\limits^{n}_{i = 1} \\left(1 - \\frac{6}{k^3 - k}\\sum\\limits^{k}_{j = 1}\\left(R_{ij}^2 - 2jR_{ij} + j^2\\right) \\right) = 1 -  \\frac{6}{n(k^3 - k)}\\sum\\limits_{ij} \\left(R_{ij}^2 - 2jR_{ij} + j^2\\right) = *$$\n",
    "\n",
    "Рассмотрим суммирование по строкам: $\\sum\\limits_{i = 1}^{n}\\sum\\limits_{j = 1}^{k} \\left(R_{ij}^2 + j^2\\right)$. Т.к. $R_{ij}^2$ по $j$ пробегает все те же значения, что и $j^2$, то $\\sum\\limits_{j = 1}^{k} \\left(R_{ij}^2 + j^2\\right) = \\sum\\limits_{j = 1}^{k} 2j^2 = \\dfrac{k(k + 1)(2k + 1)}{3}$ \n",
    "\n",
    "А значит:\n",
    "\n",
    "$$* = 1 -  \\frac{6}{n(k^3 - k)} \\left(\\frac{nk(k + 1)(2k + 1)}{3} - 2\\sum\\limits_{ij}jR_{ij}\\right) = - \\frac{3(k + 1)}{k - 1} + \\frac{12}{nk(k^2 - 1)}\\sum\\limits_{ij}jR_{ij} = *$$\n",
    "\n",
    "Из лекции, статистика критерия Пейджа $L = \\sum\\limits_{j = 1}^{k} j \\sum\\limits_{i = 1}^{n} R_{ij} = \\sum\\limits_{ij} jR_{ij}$\n",
    "\n",
    "В итоге получаем:\n",
    "\n",
    "$$* = \\frac{12L}{nk(k^2 - 1)}- \\frac{3(k + 1)}{k - 1}$$\n",
    "\n",
    "\n",
    "**ЧТД**"
   ]
  },
  {
   "cell_type": "markdown",
   "metadata": {},
   "source": [
    "## Задача 2"
   ]
  },
  {
   "cell_type": "markdown",
   "metadata": {},
   "source": [
    "Зафиксируем некоторые четыре $i$: $j, k, l, m$ и рассмотрим $X_{jk}, X_{jl}, X_{mk}, X_{ml}$. Запишем $X_{jk} + X_{ml} - X_{jl} - X_{mk} = \\mu + \\alpha_j + \\beta_k + \\epsilon_{jk} + \\mu + \\alpha_m + \\beta_l + \\epsilon_{ml} - \\mu - \\alpha_j - \\beta_l - \\epsilon_{jl} - \\mu - \\alpha_m - \\beta_k - \\epsilon_{mk} = \\epsilon_{jk}  + \\epsilon_{ml}  - \\epsilon_{jl} - \\epsilon_{mk}$\n",
    "\n",
    "Если $\\epsilon_{ij}$ -- нормальные н.о.р. со средним $a$ и дисперсией $\\sigma^2$, то $\\epsilon_{jk}  + \\epsilon_{ml}  - \\epsilon_{jl} - \\epsilon_{mk}$ -- нормальные со средним 0 и дисперсией $4\\sigma^2$. \n",
    "\n",
    "Собственно, методика: взять четверки $X_{ij}$. И проделать с ними операции выше. Получим выборку $\\epsilon_{jk}  + \\epsilon_{ml} - \\epsilon_{jl} - \\epsilon_{mk}$  . Ее уже проверяем на нормальность"
   ]
  },
  {
   "cell_type": "markdown",
   "metadata": {},
   "source": [
    "## Задача 3"
   ]
  },
  {
   "cell_type": "code",
   "execution_count": null,
   "metadata": {},
   "outputs": [],
   "source": []
  },
  {
   "cell_type": "markdown",
   "metadata": {},
   "source": [
    "## Задача 4"
   ]
  },
  {
   "cell_type": "code",
   "execution_count": 2,
   "metadata": {},
   "outputs": [],
   "source": [
    "data = np.load('./data/hw7t4.npy')"
   ]
  },
  {
   "cell_type": "code",
   "execution_count": 4,
   "metadata": {},
   "outputs": [
    {
     "data": {
      "text/plain": [
       "(array([0., 1., 2., 3., 4.]), array([0., 1., 2., 3., 4.]))"
      ]
     },
     "execution_count": 4,
     "metadata": {},
     "output_type": "execute_result"
    }
   ],
   "source": [
    "np.unique(data[:, 0]), np.unique(data[:, 1])"
   ]
  },
  {
   "cell_type": "code",
   "execution_count": null,
   "metadata": {},
   "outputs": [],
   "source": [
    "samples = []\n",
    "for d_1 in np.unique(data[:, 1]):\n",
    "    for d_2  in np.unique(data[:, 1]):\n",
    "        "
   ]
  },
  {
   "cell_type": "code",
   "execution_count": 17,
   "metadata": {},
   "outputs": [
    {
     "data": {
      "text/html": [
       "<div>\n",
       "<style scoped>\n",
       "    .dataframe tbody tr th:only-of-type {\n",
       "        vertical-align: middle;\n",
       "    }\n",
       "\n",
       "    .dataframe tbody tr th {\n",
       "        vertical-align: top;\n",
       "    }\n",
       "\n",
       "    .dataframe thead th {\n",
       "        text-align: right;\n",
       "    }\n",
       "</style>\n",
       "<table border=\"1\" class=\"dataframe\">\n",
       "  <thead>\n",
       "    <tr style=\"text-align: right;\">\n",
       "      <th></th>\n",
       "      <th>factor_1</th>\n",
       "      <th>factor_2</th>\n",
       "      <th>target</th>\n",
       "    </tr>\n",
       "  </thead>\n",
       "  <tbody>\n",
       "    <tr>\n",
       "      <th>0</th>\n",
       "      <td>0.0</td>\n",
       "      <td>0.0</td>\n",
       "      <td>1.038829</td>\n",
       "    </tr>\n",
       "    <tr>\n",
       "      <th>1</th>\n",
       "      <td>0.0</td>\n",
       "      <td>0.0</td>\n",
       "      <td>2.842808</td>\n",
       "    </tr>\n",
       "    <tr>\n",
       "      <th>2</th>\n",
       "      <td>0.0</td>\n",
       "      <td>0.0</td>\n",
       "      <td>0.890729</td>\n",
       "    </tr>\n",
       "  </tbody>\n",
       "</table>\n",
       "</div>"
      ],
      "text/plain": [
       "   factor_1  factor_2    target\n",
       "0       0.0       0.0  1.038829\n",
       "1       0.0       0.0  2.842808\n",
       "2       0.0       0.0  0.890729"
      ]
     },
     "execution_count": 17,
     "metadata": {},
     "output_type": "execute_result"
    }
   ],
   "source": [
    "df = pd.DataFrame(data=data, columns=['factor_1', 'factor_2', 'target'])\n",
    "df[:3]"
   ]
  },
  {
   "cell_type": "code",
   "execution_count": 21,
   "metadata": {},
   "outputs": [
    {
     "data": {
      "image/png": "[encoded data removed]",
      "text/plain": [
       "<matplotlib.figure.Figure at 0x1a1a8a5ef0>"
      ]
     },
     "metadata": {},
     "output_type": "display_data"
    }
   ],
   "source": [
    "sns.factorplot(data=df, x=\"factor_1\", y=\"target\", col=\"factor_2\", kind=\"box\")\n",
    "plt.show()"
   ]
  },
  {
   "cell_type": "markdown",
   "metadata": {},
   "source": [
    "Не нормальное распределение"
   ]
  },
  {
   "cell_type": "code",
   "execution_count": 24,
   "metadata": {},
   "outputs": [],
   "source": [
    "df_pivot = pd.pivot_table(data=df, index='factor_1', columns='factor_2', values='target', \n",
    "               aggfunc=lambda x: \" \".join(map(str, x)))"
   ]
  },
  {
   "cell_type": "code",
   "execution_count": 47,
   "metadata": {},
   "outputs": [],
   "source": [
    "datas = [list(map(float, x.split())) for x in df_pivot.values.ravel()]\n",
    "n, k = len(datas[0]), len(datas)"
   ]
  },
  {
   "cell_type": "markdown",
   "metadata": {},
   "source": [
    "Воспользуемся критерием Фридмана"
   ]
  },
  {
   "cell_type": "code",
   "execution_count": 48,
   "metadata": {},
   "outputs": [],
   "source": [
    "stat, pval = sps.friedmanchisquare(*datas)"
   ]
  },
  {
   "cell_type": "code",
   "execution_count": null,
   "metadata": {},
   "outputs": [],
   "source": []
  },
  {
   "cell_type": "code",
   "execution_count": 51,
   "metadata": {},
   "outputs": [],
   "source": [
    "friedman = (stat * (n - 1) / (n * (k - 1) - stat))"
   ]
  },
  {
   "cell_type": "code",
   "execution_count": 52,
   "metadata": {},
   "outputs": [
    {
     "name": "stdout",
     "output_type": "stream",
     "text": [
      "Friedman stat = 4.245\n",
      "alpha and 1 - alpha ppf of f distr = 0.366 and 1.923\n"
     ]
    }
   ],
   "source": [
    "print('Friedman stat = {:.3f}\\nalpha and 1 - alpha ppf of f distr = {:.3f} and {:.3f}'.format(friedman, \n",
    "                                                                                              sps.f.ppf(0.05, n - 1, (n - 1) * (k - 1)), \n",
    "                                                                                              sps.f.ppf(0.95, n - 1, (n - 1) * (k - 1))))"
   ]
  },
  {
   "cell_type": "markdown",
   "metadata": {},
   "source": [
    "Гипотезу об отсутствии влияния двух факторов отклоняем"
   ]
  },
  {
   "cell_type": "code",
   "execution_count": null,
   "metadata": {},
   "outputs": [],
   "source": []
  }
 ],
 "metadata": {
  "kernelspec": {
   "display_name": "Python 3",
   "language": "python",
   "name": "python3"
  },
  "language_info": {
   "codemirror_mode": {
    "name": "ipython",
    "version": 3
   },
   "file_extension": ".py",
   "mimetype": "text/x-python",
   "name": "python",
   "nbconvert_exporter": "python",
   "pygments_lexer": "ipython3",
   "version": "3.6.4"
  }
 },
 "nbformat": 4,
 "nbformat_minor": 2
}
