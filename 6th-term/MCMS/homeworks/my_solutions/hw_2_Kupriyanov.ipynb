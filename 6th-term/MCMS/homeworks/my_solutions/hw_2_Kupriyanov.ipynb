{
 "cells": [
  {
   "cell_type": "markdown",
   "metadata": {},
   "source": [
    "# МСПС ДЗ 1\n",
    "## Куприянов Артем АД 599 группа"
   ]
  },
  {
   "cell_type": "code",
   "execution_count": 50,
   "metadata": {},
   "outputs": [
    {
     "name": "stdout",
     "output_type": "stream",
     "text": [
      "Populating the interactive namespace from numpy and matplotlib\n"
     ]
    }
   ],
   "source": [
    "import random as pyrandom\n",
    "import numpy as np\n",
    "import scipy.stats as sps\n",
    "import matplotlib\n",
    "import matplotlib.pyplot as plt\n",
    "\n",
    "%pylab inline"
   ]
  },
  {
   "cell_type": "markdown",
   "metadata": {},
   "source": [
    "## Задача 1"
   ]
  },
  {
   "cell_type": "code",
   "execution_count": null,
   "metadata": {},
   "outputs": [],
   "source": []
  },
  {
   "cell_type": "markdown",
   "metadata": {},
   "source": [
    "## Задача 2"
   ]
  },
  {
   "cell_type": "markdown",
   "metadata": {},
   "source": [
    "Есть выборки из распределения $Bern(p)$:"
   ]
  },
  {
   "cell_type": "code",
   "execution_count": 2,
   "metadata": {},
   "outputs": [],
   "source": [
    "placebo = [80, 45]\n",
    "chlorpromazine = [75, 26]\n",
    "dimenhydrinate = [85, 52]\n",
    "pentobarbital_100 = [67, 35]\n",
    "pentobarbital_150 = [85, 37]"
   ]
  },
  {
   "cell_type": "markdown",
   "metadata": {},
   "source": [
    "Истинное значение параметра $\\theta$. Обозначаем за $\\theta_0$:"
   ]
  },
  {
   "cell_type": "code",
   "execution_count": 5,
   "metadata": {},
   "outputs": [
    {
     "data": {
      "text/plain": [
       "0.5625"
      ]
     },
     "execution_count": 5,
     "metadata": {},
     "output_type": "execute_result"
    }
   ],
   "source": [
    "theta_0 = placebo[1] / placebo[0]\n",
    "theta_0"
   ]
  },
  {
   "cell_type": "markdown",
   "metadata": {},
   "source": [
    "Нам нужно проверить гипотезы $H_0:  \\theta = \\theta_0$ vs $H_1: \\theta \\neq \\theta_0$"
   ]
  },
  {
   "cell_type": "code",
   "execution_count": 45,
   "metadata": {},
   "outputs": [],
   "source": [
    "def calc_wald_statistics(X, samples_count, assumed_mean):\n",
    "    X = np.array(X)[: samples_count]\n",
    "    n = len(X) \n",
    "    return (X.sum() - n * assumed_mean) / np.sqrt(n * X.var(ddof=1))\n",
    "\n",
    "def generate_sample(n, n_1):\n",
    "    sample = np.zeros(n)\n",
    "    for i in range(n_1):\n",
    "        sample[i] = 1\n",
    "    pyrandom.shuffle(sample)\n",
    "    return np.array(sample)\n",
    "\n",
    "def check_wald_stat(wald_stat, alpha): \n",
    "    norm_threshold = sps.norm.ppf(1.0 - 0.5 * alpha)\n",
    "    if np.abs(wald_stat) > norm_threshold:\n",
    "        return 'отвергается'\n",
    "    else:\n",
    "        return 'не отвергается'"
   ]
  },
  {
   "cell_type": "code",
   "execution_count": 41,
   "metadata": {},
   "outputs": [],
   "source": [
    "chlorpromazine_sample = generate_sample(*chlorpromazine)\n",
    "dimenhydrinate_sample = generate_sample(*dimenhydrinate)\n",
    "pentobarbital_100_sample = generate_sample(*pentobarbital_100)\n",
    "pentobarbital_150_sample = generate_sample(*pentobarbital_150)"
   ]
  },
  {
   "cell_type": "code",
   "execution_count": 44,
   "metadata": {},
   "outputs": [],
   "source": [
    "alpha = 0.05\n",
    "chlorpromazine_wald = calc_wald_statistics(chlorpromazine_sample, len(chlorpromazine_sample), theta_0)\n",
    "dimenhydrinate_wald = calc_wald_statistics(dimenhydrinate_sample, len(dimenhydrinate_sample), theta_0)\n",
    "pentobarbital_100_wald = calc_wald_statistics(pentobarbital_100_sample, len(pentobarbital_100_sample), theta_0)\n",
    "pentobarbital_150_wald = calc_wald_statistics(pentobarbital_150_sample, len(pentobarbital_150_sample), theta_0)"
   ]
  },
  {
   "cell_type": "code",
   "execution_count": 49,
   "metadata": {},
   "outputs": [
    {
     "name": "stdout",
     "output_type": "stream",
     "text": [
      "alpha=0.05, theta_0=0.5625, threshold=1.959963984540054\n",
      "chlorpromazine: theta=0.3466666666666667, wald_stat=-3.9013141893272527, checker_answer=отвергается\n",
      "dimenhydrinate: theta=0.611764705882353, wald_stat=0.926479515131361, checker_answer=не отвергается\n",
      "pentobarbital_100: theta=0.5223880597014925, wald_stat=-0.652396209930854, checker_answer=не отвергается\n",
      "pentobarbital_150: theta=0.43529411764705883, wald_stat=-2.3514962082107913, checker_answer=отвергается\n"
     ]
    }
   ],
   "source": [
    "print('alpha={}, theta_0={}, threshold={}'.format(alpha, theta_0, sps.norm.ppf(1.0 - 0.5 * alpha)))\n",
    "print('chlorpromazine: theta={}, wald_stat={}, checker_answer={}'.format(\n",
    "    chlorpromazine[1] / chlorpromazine[0], \n",
    "    chlorpromazine_wald, \n",
    "    check_wald_stat(chlorpromazine_wald, alpha)\n",
    "))\n",
    "print('dimenhydrinate: theta={}, wald_stat={}, checker_answer={}'.format(\n",
    "    dimenhydrinate[1] / dimenhydrinate[0],\n",
    "    dimenhydrinate_wald, \n",
    "    check_wald_stat(dimenhydrinate_wald, alpha)\n",
    "))\n",
    "print('pentobarbital_100: theta={}, wald_stat={}, checker_answer={}'.format(\n",
    "    pentobarbital_100[1] / pentobarbital_100[0],\n",
    "    pentobarbital_100_wald, \n",
    "    check_wald_stat(pentobarbital_100_wald, alpha)\n",
    "))\n",
    "print('pentobarbital_150: theta={}, wald_stat={}, checker_answer={}'.format(\n",
    "    pentobarbital_150[1] / pentobarbital_150[0],\n",
    "    pentobarbital_150_wald, \n",
    "    check_wald_stat(pentobarbital_150_wald, alpha)\n",
    "))"
   ]
  },
  {
   "cell_type": "markdown",
   "metadata": {},
   "source": [
    "## Задача 4"
   ]
  },
  {
   "cell_type": "code",
   "execution_count": null,
   "metadata": {},
   "outputs": [],
   "source": []
  }
 ],
 "metadata": {
  "kernelspec": {
   "display_name": "Python 3",
   "language": "python",
   "name": "python3"
  },
  "language_info": {
   "codemirror_mode": {
    "name": "ipython",
    "version": 3
   },
   "file_extension": ".py",
   "mimetype": "text/x-python",
   "name": "python",
   "nbconvert_exporter": "python",
   "pygments_lexer": "ipython3",
   "version": "3.6.4"
  }
 },
 "nbformat": 4,
 "nbformat_minor": 2
}
