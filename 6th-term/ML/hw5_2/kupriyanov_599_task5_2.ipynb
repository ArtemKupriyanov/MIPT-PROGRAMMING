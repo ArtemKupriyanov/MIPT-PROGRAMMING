{
 "cells": [
  {
   "cell_type": "code",
   "execution_count": 671,
   "metadata": {},
   "outputs": [],
   "source": [
    "import pandas as pd\n",
    "import numpy as np\n",
    "import matplotlib.pyplot as plt\n",
    "from sklearn.feature_extraction.text import TfidfVectorizer, CountVectorizer\n",
    "from tqdm import tqdm\n",
    "from sklearn.metrics import accuracy_score\n",
    "from sklearn.decomposition import PCA\n",
    "from scipy import sparse\n",
    "from sklearn.preprocessing import MinMaxScaler, StandardScaler\n",
    "import nltk \n",
    "from sklearn.ensemble import BaggingClassifier\n",
    "\n",
    "%matplotlib inline"
   ]
  },
  {
   "cell_type": "code",
   "execution_count": 672,
   "metadata": {},
   "outputs": [
    {
     "name": "stdout",
     "output_type": "stream",
     "text": [
      "\u001b[0m\u001b[01;34mcontest2\u001b[0m/\r\n"
     ]
    }
   ],
   "source": [
    "ls data"
   ]
  },
  {
   "cell_type": "code",
   "execution_count": 673,
   "metadata": {},
   "outputs": [
    {
     "data": {
      "text/html": [
       "<div>\n",
       "<style scoped>\n",
       "    .dataframe tbody tr th:only-of-type {\n",
       "        vertical-align: middle;\n",
       "    }\n",
       "\n",
       "    .dataframe tbody tr th {\n",
       "        vertical-align: top;\n",
       "    }\n",
       "\n",
       "    .dataframe thead th {\n",
       "        text-align: right;\n",
       "    }\n",
       "</style>\n",
       "<table border=\"1\" class=\"dataframe\">\n",
       "  <thead>\n",
       "    <tr style=\"text-align: right;\">\n",
       "      <th></th>\n",
       "      <th>author</th>\n",
       "      <th>content</th>\n",
       "      <th>sentiment</th>\n",
       "    </tr>\n",
       "  </thead>\n",
       "  <tbody>\n",
       "    <tr>\n",
       "      <th>26898</th>\n",
       "      <td>richardepryor</td>\n",
       "      <td>@treasaint salad stuff, some chillis, whatever...</td>\n",
       "      <td>happiness</td>\n",
       "    </tr>\n",
       "    <tr>\n",
       "      <th>27635</th>\n",
       "      <td>reese</td>\n",
       "      <td>@sunnyjamiel sunny, I'm a workin' on it. It's ...</td>\n",
       "      <td>neutral</td>\n",
       "    </tr>\n",
       "    <tr>\n",
       "      <th>3036</th>\n",
       "      <td>mutedriposte</td>\n",
       "      <td>@jolynnchew so early??</td>\n",
       "      <td>surprise</td>\n",
       "    </tr>\n",
       "  </tbody>\n",
       "</table>\n",
       "</div>"
      ],
      "text/plain": [
       "              author                                            content  \\\n",
       "26898  richardepryor  @treasaint salad stuff, some chillis, whatever...   \n",
       "27635          reese  @sunnyjamiel sunny, I'm a workin' on it. It's ...   \n",
       "3036    mutedriposte                             @jolynnchew so early??   \n",
       "\n",
       "       sentiment  \n",
       "26898  happiness  \n",
       "27635    neutral  \n",
       "3036    surprise  "
      ]
     },
     "execution_count": 673,
     "metadata": {},
     "output_type": "execute_result"
    }
   ],
   "source": [
    "train = pd.read_csv('./data/contest2/train.csv', index_col=0)\n",
    "train[:3]"
   ]
  },
  {
   "cell_type": "code",
   "execution_count": 674,
   "metadata": {},
   "outputs": [
    {
     "data": {
      "text/html": [
       "<div>\n",
       "<style scoped>\n",
       "    .dataframe tbody tr th:only-of-type {\n",
       "        vertical-align: middle;\n",
       "    }\n",
       "\n",
       "    .dataframe tbody tr th {\n",
       "        vertical-align: top;\n",
       "    }\n",
       "\n",
       "    .dataframe thead th {\n",
       "        text-align: right;\n",
       "    }\n",
       "</style>\n",
       "<table border=\"1\" class=\"dataframe\">\n",
       "  <thead>\n",
       "    <tr style=\"text-align: right;\">\n",
       "      <th></th>\n",
       "      <th>author</th>\n",
       "      <th>content</th>\n",
       "    </tr>\n",
       "    <tr>\n",
       "      <th>id</th>\n",
       "      <th></th>\n",
       "      <th></th>\n",
       "    </tr>\n",
       "  </thead>\n",
       "  <tbody>\n",
       "    <tr>\n",
       "      <th>32823</th>\n",
       "      <td>valicast</td>\n",
       "      <td>Good Morning</td>\n",
       "    </tr>\n",
       "    <tr>\n",
       "      <th>16298</th>\n",
       "      <td>btb103</td>\n",
       "      <td>I just put my computer up on craigslist. I've ...</td>\n",
       "    </tr>\n",
       "    <tr>\n",
       "      <th>28505</th>\n",
       "      <td>anavil</td>\n",
       "      <td>in ten minutes shopping   demi lovato-back aro...</td>\n",
       "    </tr>\n",
       "  </tbody>\n",
       "</table>\n",
       "</div>"
      ],
      "text/plain": [
       "         author                                            content\n",
       "id                                                                \n",
       "32823  valicast                                       Good Morning\n",
       "16298    btb103  I just put my computer up on craigslist. I've ...\n",
       "28505    anavil  in ten minutes shopping   demi lovato-back aro..."
      ]
     },
     "execution_count": 674,
     "metadata": {},
     "output_type": "execute_result"
    }
   ],
   "source": [
    "test = pd.read_csv('./data/contest2/test.csv', index_col=0)\n",
    "test[:3]"
   ]
  },
  {
   "cell_type": "code",
   "execution_count": 676,
   "metadata": {},
   "outputs": [
    {
     "data": {
      "text/plain": [
       "{'anger': 0,\n",
       " 'boredom': 1,\n",
       " 'empty': 2,\n",
       " 'enthusiasm': 3,\n",
       " 'fun': 4,\n",
       " 'happiness': 5,\n",
       " 'hate': 6,\n",
       " 'love': 7,\n",
       " 'neutral': 8,\n",
       " 'relief': 9,\n",
       " 'sadness': 10,\n",
       " 'surprise': 11,\n",
       " 'worry': 12}"
      ]
     },
     "execution_count": 676,
     "metadata": {},
     "output_type": "execute_result"
    }
   ],
   "source": [
    "transformer = dict(zip(np.unique(train['sentiment']), range(len(np.unique(train['sentiment'])))))\n",
    "transformer"
   ]
  },
  {
   "cell_type": "code",
   "execution_count": 677,
   "metadata": {},
   "outputs": [],
   "source": [
    "X = train.drop(['sentiment'], axis=1)\n",
    "y = train.sentiment.apply(lambda x: transformer[x])\n",
    "X_kaggle = test"
   ]
  },
  {
   "cell_type": "code",
   "execution_count": 678,
   "metadata": {},
   "outputs": [],
   "source": [
    "from nltk.stem.porter import PorterStemmer\n",
    "from nltk.stem import WordNetLemmatizer"
   ]
  },
  {
   "cell_type": "code",
   "execution_count": 680,
   "metadata": {},
   "outputs": [],
   "source": [
    "stemmer = PorterStemmer()"
   ]
  },
  {
   "cell_type": "markdown",
   "metadata": {},
   "source": [
    "### tfidf"
   ]
  },
  {
   "cell_type": "code",
   "execution_count": 681,
   "metadata": {},
   "outputs": [
    {
     "name": "stderr",
     "output_type": "stream",
     "text": [
      "100%|██████████| 30000/30000 [00:06<00:00, 4775.90it/s]\n"
     ]
    }
   ],
   "source": [
    "X_upd = []\n",
    "for row in tqdm(X.values):\n",
    "    r = ' '.join(row)\n",
    "    r_array = r.split()\n",
    "    r_array = list(map(lambda x: stemmer.stem(x), r_array))\n",
    "    X_upd.append(' '.join(r_array))\n",
    "    \n",
    "X = np.array(X_upd)"
   ]
  },
  {
   "cell_type": "code",
   "execution_count": 682,
   "metadata": {},
   "outputs": [
    {
     "name": "stderr",
     "output_type": "stream",
     "text": [
      "100%|██████████| 10000/10000 [00:02<00:00, 4281.63it/s]\n"
     ]
    }
   ],
   "source": [
    "X_upd_test = []\n",
    "for row in tqdm(X_kaggle.values):\n",
    "    r = ' '.join(row)\n",
    "    r_array = r.split()\n",
    "    r_array = list(map(lambda x: stemmer.stem(x), r_array))\n",
    "    X_upd_test.append(' '.join(r_array))\n",
    "X_kaggle_tfidf = np.array(X_upd_test)"
   ]
  },
  {
   "cell_type": "code",
   "execution_count": 683,
   "metadata": {},
   "outputs": [],
   "source": [
    "count = CountVectorizer(ngram_range=(1, 4))\n",
    "tfidf = TfidfVectorizer(ngram_range=(1, 5))"
   ]
  },
  {
   "cell_type": "code",
   "execution_count": 508,
   "metadata": {},
   "outputs": [],
   "source": [
    "tfidf_train_features = tfidf.fit_transform(X, y)\n",
    "tfidf_kaggle_features = tfidf.transform(X_kaggle_tfidf)"
   ]
  },
  {
   "cell_type": "code",
   "execution_count": 684,
   "metadata": {},
   "outputs": [],
   "source": [
    "count_train_features = count.fit_transform(X, y)\n",
    "count_kaggle_features = count.transform(X_kaggle_tfidf)"
   ]
  },
  {
   "cell_type": "code",
   "execution_count": 630,
   "metadata": {},
   "outputs": [
    {
     "data": {
      "text/plain": [
       "((30000, 563741), (30000, 1147406))"
      ]
     },
     "execution_count": 630,
     "metadata": {},
     "output_type": "execute_result"
    }
   ],
   "source": [
    "count_train_features.shape, tfidf_train_features.shape"
   ]
  },
  {
   "cell_type": "code",
   "execution_count": 511,
   "metadata": {},
   "outputs": [],
   "source": [
    "from sklearn.svm import SVC\n",
    "from sklearn.linear_model import LogisticRegression, SGDClassifier"
   ]
  },
  {
   "cell_type": "code",
   "execution_count": 722,
   "metadata": {},
   "outputs": [],
   "source": [
    "svm = LogisticRegression(C=0.7, random_state=42, max_iter=100, multi_class='multinomial', solver='lbfgs', n_jobs=-1)"
   ]
  },
  {
   "cell_type": "code",
   "execution_count": 777,
   "metadata": {},
   "outputs": [],
   "source": [
    "y_kaggle_pred_logreg = svm.predict(count_kaggle_features)"
   ]
  },
  {
   "cell_type": "code",
   "execution_count": 768,
   "metadata": {},
   "outputs": [],
   "source": [
    "ss = pd.read_csv('./data/contest2/sampleSubmission.csv')"
   ]
  },
  {
   "cell_type": "code",
   "execution_count": 769,
   "metadata": {
    "scrolled": true
   },
   "outputs": [],
   "source": [
    "inverse_transformer = {\n",
    "    'anger': 0,\n",
    "    'boredom': 1,\n",
    "    'empty': 2,\n",
    "    'enthusiasm': 3,\n",
    "    'fun': 4,\n",
    "    'happiness': 5,\n",
    "    'hate': 6,\n",
    "    'love': 7,\n",
    "    'neutral': 8,\n",
    "    'relief': 9,\n",
    "    'sadness': 10,\n",
    "    'surprise': 11,\n",
    "    'worry': 12\n",
    "}\n",
    "inverse_transformer = dict(zip(range(13), inverse_transformer.keys()))"
   ]
  },
  {
   "cell_type": "code",
   "execution_count": 770,
   "metadata": {},
   "outputs": [],
   "source": [
    "y_pred_kaggle = [inverse_transformer[x] for x in y_pred_kaggle]"
   ]
  },
  {
   "cell_type": "code",
   "execution_count": 771,
   "metadata": {},
   "outputs": [],
   "source": [
    "ss['sentiment'] = y_pred_kaggle"
   ]
  },
  {
   "cell_type": "code",
   "execution_count": null,
   "metadata": {},
   "outputs": [],
   "source": []
  },
  {
   "cell_type": "code",
   "execution_count": 772,
   "metadata": {},
   "outputs": [],
   "source": [
    "ss.index = ss['id']"
   ]
  },
  {
   "cell_type": "code",
   "execution_count": 773,
   "metadata": {},
   "outputs": [],
   "source": [
    "ss = ss.drop('id', axis=1)"
   ]
  },
  {
   "cell_type": "code",
   "execution_count": 774,
   "metadata": {},
   "outputs": [],
   "source": [
    "ss.to_csv('ss_expected_36.csv')"
   ]
  },
  {
   "cell_type": "code",
   "execution_count": null,
   "metadata": {},
   "outputs": [],
   "source": []
  }
 ],
 "metadata": {
  "kernelspec": {
   "display_name": "Environment (conda_anaconda3)",
   "language": "python",
   "name": "conda_anaconda3"
  },
  "language_info": {
   "codemirror_mode": {
    "name": "ipython",
    "version": 3
   },
   "file_extension": ".py",
   "mimetype": "text/x-python",
   "name": "python",
   "nbconvert_exporter": "python",
   "pygments_lexer": "ipython3",
   "version": "3.6.4"
  }
 },
 "nbformat": 4,
 "nbformat_minor": 2
}
