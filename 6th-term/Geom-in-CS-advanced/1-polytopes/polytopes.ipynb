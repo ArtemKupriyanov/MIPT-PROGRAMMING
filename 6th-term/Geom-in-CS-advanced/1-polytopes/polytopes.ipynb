{
 "cells": [
  {
   "cell_type": "markdown",
   "metadata": {
    "collapsed": false
   },
   "source": [
    "# Симплициальные многогранники и внешние формы\n",
    "\n",
    "## Порядок сдачи\n",
    "Срок сдачи задания -- **1 апреля**. 2 апреля работы будут собраны и уйдут на проверку. Сдача после дедлайна возможна в индивидуальном порядке за половинный балл.\n",
    "\n",
    "Можете объединяться в команды по 2-3 человека для совместного написания программ:\n",
    "для этого нужно пригласить соответствующего студента в коллабораторы и указать в комментариях к коду, кто реализовал какое задание.\n",
    "Можете реализовывать задания по своему выбору. \n",
    "Максимальная сумма, присуждаемая одному участнику -- **30** баллов.\n",
    "Если команда (из 1 или более человека) корректно реализовала все методы -- дополнительно присуждается по **10** баллов каждому.\n",
    "\n",
    "Будьте готовы к тому, что мы попросим некоторых из вас объяснить, что делает программа и как работает код. Использование чужого кода наказуемо аннулированием баллов у всех сторон подобного инцидента.\n",
    "По всем вопросам пишите в чат в правом верхнем углу - мы увидим оповещение и ответим. Вопросы общего характера можно также задавать в telegram-чате.\n",
    "\n",
    "## Соглашения\n",
    "\n",
    "Мы задаём ориентируемое симплициальное многообразие X без края с помощью класса Variety. Оно обладает X.n вершинами, пронумерованными числами от 0 до n-1.\n",
    "Рёбра задаются парами вершин, (полу)рёбра -- парами вершин с учётом их порядка, а грани задаются тройками вершин с учётом ориентации, то есть направления обхода вершин.\n",
    "Основным полем объекта X является X.faces -- массив ориентированных граней.\n",
    "- *0-форма* (функция на вершинах) является функцией, принимающей номер вершины и возвращающей значение.\n",
    "- *1-форма* (функция на рёбрах) является функцией, принимающей пару номеров вершин и возвращающей значение. Если пара вершин не задаёт ребро, то функция вольна возвращать произвольное значение. \n",
    "- *2-форма* (функция на гранях) является функцией, принимающей тройку номеров вершин и возвращающей значение. Если тройка вершин не задаёт грань, то функция вольна возвращать произвольное значение. \n",
    "\n",
    "## Задания\n",
    "\n",
    "1. *(5 баллов)* Напишите метод **check**(), проверяющий, задаёт ли faces (массив троек номеров вершин) симплициальное многообразие (ориентируемое, без края), и возвращающий соответствующее булево значение. Вам нужно проверить, что окрестность каждой вершины и окрестность каждого ребра гомеоморфны плоскости. *Указание:* удобнее проверять на полурёбрах.\n",
    "2. *(5 баллов)* Напишите метод **Euler**(), возвращающий эйлерову характеристику симплициального многообразия.\n",
    "3. *(5 баллов)* Напишите метод **d_0**(form), принимающий 0-форму и возвращающий её дифференциал -- 1-форму.\n",
    "4. *(5 баллов)* Напишите метод **check_form**(k, form), принимающий на вход k-форму и проверяющий её корректность, где k = 1 или 2.\n",
    "5. *(5 баллов)* Напишите метод **d_1**(form), принимающий 1-форму и возвращающий её дифференциал -- 2-форму.\n",
    "6. Напишите метод **wedge**(k1,k2, form1, form2), принимающий k1-форму и k2-форму и возвращающий их внешнее произведение, для (k1,k2)=\n",
    "  - *(5 баллов)* (0,0).\n",
    "  - *(5 баллов)* (0,1) и (1,0).\n",
    "  - *(10 баллов)* (0,2) и (2,0).\n",
    "  - *(15 баллов)* (1,1).\n"
   ]
  },
  {
   "cell_type": "code",
   "execution_count": 21,
   "metadata": {
    "collapsed": false
   },
   "outputs": [
   ],
   "source": [
    "import numpy as np\n",
    "from numpy.linalg import det\n",
    "import itertools\n",
    "from sympy.combinatorics import Permutation"
   ]
  },
  {
   "cell_type": "code",
   "execution_count": 15,
   "metadata": {
    "collapsed": false
   },
   "outputs": [
    {
     "data": {
      "text/plain": [
       "[(1, 2, 3), (1, 3, 2), (2, 1, 3), (2, 3, 1), (3, 1, 2), (3, 2, 1)]"
      ]
     },
     "execution_count": 15,
     "metadata": {
     },
     "output_type": "execute_result"
    }
   ],
   "source": [
    "list(itertools.permutations([1, 2, 3]))"
   ]
  },
  {
   "cell_type": "code",
   "execution_count": 27,
   "metadata": {
    "collapsed": false
   },
   "outputs": [
    {
     "data": {
      "text/plain": [
       "[0, 1, 2]"
      ]
     },
     "execution_count": 27,
     "metadata": {
     },
     "output_type": "execute_result"
    }
   ],
   "source": [
    "p = Permutation((0, 1, 2))\n",
    "p.array_form"
   ]
  },
  {
   "cell_type": "code",
   "execution_count": 73,
   "metadata": {
    "collapsed": false
   },
   "outputs": [
   ],
   "source": [
    "class Variety():\n",
    "    def __init__(self, faces):\n",
    "        self.faces = faces\n",
    "        vertices = set(i for f in faces for i in f)\n",
    "        self.n = max(vertices)+1\n",
    "        assert set(range(self.n)) == vertices\n",
    "        self.edges = self._get_edges(return_unique=False)\n",
    "        self.unique_edges = self._get_edges(return_unique=True)\n",
    "        for f in faces:\n",
    "            assert len(f)==3\n",
    "\n",
    "    @property\n",
    "    def num_vertices(self):\n",
    "        return self.n\n",
    "\n",
    "    def check(self):\n",
    "        pass # Замените 'pass' на код функции, проверяющий self.faces\n",
    "\n",
    "    def Euler(self):\n",
    "        return self.num_vertices - len(self.unique_edges) + len(self.faces)\n",
    "\n",
    "    def d_0(self, func):\n",
    "        return lambda x, y: func(y) - func(x)\n",
    "\n",
    "    def d_1(self, func):\n",
    "        return lambda x, y, z: func(x, y) + func(y, z) + func(z, x)\n",
    "\n",
    "    def check_form(self, k, func):\n",
    "        assert k in [1, 2]\n",
    "        if k == 1:\n",
    "            if False in [func(edge[0], edge[1]) + func(edge[1], edge[0]) == 0 for edge in self.unique_edges]:\n",
    "                return False\n",
    "            return True\n",
    "        else:\n",
    "            for face in self.faces:\n",
    "                face = np.array(face)\n",
    "                if False in [func(*face) == Permutation(perm).signature() * func(*face[list(perm)]) for perm in itertools.permutations([0, 1, 2])]:\n",
    "                    return False\n",
    "            return True\n",
    "            \n",
    "\n",
    "    def wedge(self, k1, k2, f1, f2):\n",
    "        assert k1 in [0, 1, 2] and k2 in [0, 1, 2]\n",
    "        if k1 == k2 == 0:\n",
    "            return lambda x: f1(x) * f2(x)\n",
    "        if k1 == 0 and k2 == 1:\n",
    "            return lambda x, y: f2(x, y) * (f1(x) + f1(y)) / 2\n",
    "        if k1 == 1 and k2 == 0:\n",
    "            return lambda x, y: f1(x, y) * (f2(x) + f2(y)) / 2\n",
    "        if k1 == 0 and k2 == 2:\n",
    "            return lambda x, y, z: (f1(x) + f1(y) + f1(z)) / 3 * f2(x, y, z)\n",
    "        if k2 == 0 and k1 == 2:\n",
    "            return lambda x, y, z: (f2(x) + f2(y) + f2(z)) / 3 * f1(x, y, z)\n",
    "        if k1 == 1 and k2 == 1:\n",
    "            return lambda x, y, z: 1 / 6 * det(\n",
    "                                                np.array([\n",
    "                                                            [1, 1, 1],\n",
    "                                                            [f1(x, y), f1(y, z), f1(z, x)],\n",
    "                                                            [f2(x, y), f2(y, z), f2(z, x)]\n",
    "                                                        ])\n",
    "                                               )\n",
    "\n",
    "    def _get_edges(self, return_unique):\n",
    "        edges = []\n",
    "        for i, j, k in self.faces:\n",
    "            edges.append((i, j))\n",
    "            edges.append((j, k))\n",
    "            edges.append((k, i))\n",
    "        if return_unique:\n",
    "            return list(set([tuple(sorted(x)) for x in edges]))\n",
    "        else:\n",
    "            return edges"
   ]
  },
  {
   "cell_type": "code",
   "execution_count": 74,
   "metadata": {
    "collapsed": false
   },
   "outputs": [
    {
     "name": "stdout",
     "output_type": "stream",
     "text": [
      "Функция задания 1 не прошла проверку\n",
      "Ошибок в задании 2 не найдено\n",
      "Ошибок в задании 3 не найдено\n",
      "Ошибок в задании 4 не найдено\n",
      "Ошибок в задании 5 не найдено\n",
      "Ошибок в задании 6.1 не найдено\n",
      "Ошибок в задании 6.2 не найдено\n",
      "Ошибок в задании 6.3 не найдено\n",
      "Ошибок в задании 6.4 не найдено\n"
     ]
    }
   ],
   "source": [
    "# примеры проверок (сначала запускаете ячейку с классом, потом с проверкой):\n",
    "sphere = Variety([(3,2,1), (2,3,0), (1,0,3),(0,1,2)])\n",
    "torus = Variety([\n",
    "        (1,0,3),\n",
    "        (1,3,2),\n",
    "        (2,3,6),\n",
    "        (3,4,6),\n",
    "        (4,0,6),\n",
    "        (1,6,0),\n",
    "        (2,6,5),\n",
    "        (1,5,6),\n",
    "        (2,5,0),\n",
    "        (3,0,5),\n",
    "        (5,4,3),\n",
    "        (1,4,5),\n",
    "        (1,2,4),\n",
    "        (2,0,4),\n",
    "    ])\n",
    "\n",
    "def test1():\n",
    "    assert sphere.check() == True\n",
    "    assert torus.check() == True\n",
    "    assert Variety([(1,2,3), (2,3,0), (3,0,1),(0,1,2)]).check() == False\n",
    "    assert Variety([(1,2,3), (2,3,1), (3,0,1),(0,1,2)]).check() == False\n",
    "    assert Variety([(1,2,0), (1,0,2)]).check() == False\n",
    "    assert Variety([(3,2,1), (2,3,0), (1,0,3),(0,1,2), (6,5,4), (5,6,0), (4,0,6),(0,4,5)]).check() == False\n",
    "\n",
    "\n",
    "def test2():\n",
    "    assert sphere.Euler() == 2\n",
    "    assert torus.Euler() == 0\n",
    "\n",
    "def test3():\n",
    "    assert sphere.d_0(lambda x : x)(1, 2) == 1\n",
    "    assert torus.d_0(lambda x : x**2)(4, 3) == -7\n",
    "\n",
    "def test4():\n",
    "    assert sphere.check_form(2, lambda x,y,z : x+y+z if (x-y)*(y-z)*(z-x)>0 else -(x+y+z)) == True\n",
    "    assert torus.check_form(1,lambda v,w : 1) == False\n",
    "\n",
    "def test5():\n",
    "    assert sphere.d_1(lambda x, y : x-y)(0, 1, 2) == 0\n",
    "    assert sphere.d_1(lambda x, y : x*y if x<y else -x*y)(1, 2, 3) == 5\n",
    "\n",
    "def test61():\n",
    "    assert sphere.wedge(0,0, lambda x: x, lambda x: -x)(2) == -4\n",
    "\n",
    "def test62():\n",
    "    assert sphere.wedge(0,1, lambda x: x, lambda x,y: y-x)(2,3) == 5/2\n",
    "\n",
    "def test63():\n",
    "    assert sphere.wedge(0,2, lambda x: x, lambda x,y,z:  x+y+z if (x-y)*(y-z)*(z-x)>0 else -(x+y+z) )(0,1,2) == 3\n",
    "\n",
    "def test64():\n",
    "    assert sphere.wedge(1,1, lambda x,y: x-y, lambda x,y: y-x)(1,2,3) == 0\n",
    "\n",
    "tests = [(1, test1),\n",
    "         (2, test2),\n",
    "         (3, test3),\n",
    "         (4, test4),\n",
    "         (5, test5),\n",
    "         (\"6.1\", test61),\n",
    "         (\"6.2\", test62),\n",
    "         (\"6.3\", test63),\n",
    "         (\"6.4\", test64),\n",
    "        ]\n",
    "\n",
    "for i, t in tests:\n",
    "    try:\n",
    "        t()\n",
    "    except:\n",
    "        print('Функция задания {0} не прошла проверку'.format(i))\n",
    "    else:\n",
    "        print('Ошибок в задании {} не найдено'.format(i))\n",
    "\n"
   ]
  }
 ],
 "metadata": {
  "kernelspec": {
   "display_name": "Python 3 (Anaconda)",
   "language": "python",
   "name": "anaconda3"
  },
  "language_info": {
   "codemirror_mode": {
    "name": "ipython",
    "version": 3
   },
   "file_extension": ".py",
   "mimetype": "text/x-python",
   "name": "python",
   "nbconvert_exporter": "python",
   "pygments_lexer": "ipython3",
   "version": "3.5.5"
  }
 },
 "nbformat": 4,
 "nbformat_minor": 0
}