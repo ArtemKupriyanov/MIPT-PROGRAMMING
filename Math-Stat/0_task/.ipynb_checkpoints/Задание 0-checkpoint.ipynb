{
 "cells": [
  {
   "cell_type": "markdown",
   "metadata": {},
   "source": [
    "# Математическая статистика\n",
    "## Практическое задание 0\n",
    "\n",
    "В данном задании предлагается решить 4 простых задачи на использование функций библиотеки `numpy`. Хоть само задание и не относится к курсу статистики, оно является важным в условиях отсутствия курса по Питону. Решение этих задач поможет научить писать простой и понятный код, работающий при этом в десятки или даже в сотни раз быстрее. Нам же это облегчит процесс проверки.\n",
    "\n",
    "**Правила:**\n",
    "\n",
    "* Задание считается выполненным, если решено *не менее трех задач*.\n",
    "* Успешное выполнение задание является допуском для выполнения следующих практических заданий.\n",
    "* В случае неуспешного выполнения задания допускаются две попытки повторной сдачи. Мы будем стараться отвечать в течении трех дней.\n",
    "* Выполненную работу нужно отправить на почту `probability.diht@yandex.ru`, указав тему письма `\"[номер группы] Фамилия Имя - Задание 0\"`. Квадратные скобки обязательны.\n",
    "* Прислать нужно ноутбук и его pdf-версию. Названия файлов должны быть такими: `0.N.ipynb` и `0.N.pdf`, где `N` - ваш номер из таблицы с оценками.\n",
    "* В данном задании весь присылаемый код должен корректно работать на `Python 3.5`.\n",
    "\n",
    "\n",
    "Во всех заданиях предполагается, что все аргументы функций, которые нужно реализовать, имеют тип `numpy.array` либо являются числами. Возвращать нужно также либо `numpy.array`, либо число. Кроме того, предполагается, что все аргументы корректны, и проверять их на корректность не нужно.\n",
    "\n",
    "При реализации запрещается пользоваться любыми циклами, в том числе стандартными функциями языка, которые заменяют циклы. Можно использовать любые функции библиотек `numpy` или `scipy`, кроме функции `numpy.fromfunction` и декторатора `numpy.vectorize`."
   ]
  },
  {
   "cell_type": "code",
   "execution_count": 3,
   "metadata": {
    "collapsed": true
   },
   "outputs": [],
   "source": [
    "import numpy as np\n",
    "import scipy.stats as sps\n",
    "import matplotlib.pyplot as plt\n",
    "\n",
    "%matplotlib inline"
   ]
  },
  {
   "cell_type": "markdown",
   "metadata": {},
   "source": [
    "**Задача 1.** Напишите функцию, реализующую матричное умножение. При вычислении разрешается создавать объекты размерности три. Запрещается пользоваться функциями, реализующими матричное умножение (`numpy.dot`, операция `@`, операция умножения в классе `numpy.matrix`). *Авторское решение занимает одну строчку.*"
   ]
  },
  {
   "cell_type": "code",
   "execution_count": 105,
   "metadata": {
    "collapsed": false
   },
   "outputs": [
    {
     "ename": "IndentationError",
     "evalue": "unexpected indent (<ipython-input-105-b4be138f89e6>, line 4)",
     "output_type": "error",
     "traceback": [
      "\u001b[0;36m  File \u001b[0;32m\"<ipython-input-105-b4be138f89e6>\"\u001b[0;36m, line \u001b[0;32m4\u001b[0m\n\u001b[0;31m    (np.array([B.shape[1], 1]) * np.array(A.shape))\u001b[0m\n\u001b[0m    ^\u001b[0m\n\u001b[0;31mIndentationError\u001b[0m\u001b[0;31m:\u001b[0m unexpected indent\n"
     ]
    }
   ],
   "source": [
    "def matrix_multiplication(A, B):\n",
    "    A_tmp = np.tile(A, (B.shape[1], 1))\n",
    "    B_tmp = np.tile(B.T, (1, A.shape[0])).reshape(np.array([B.shape[1], 1]) * np.array(A.shape))\n",
    "    return (A_tmp * B_tmp).sum(axis=1).reshape((B.shape[1], A.shape[0])).T"
   ]
  },
  {
   "cell_type": "code",
   "execution_count": 70,
   "metadata": {
    "collapsed": false
   },
   "outputs": [
    {
     "data": {
      "text/plain": [
       "(10, 30)"
      ]
     },
     "execution_count": 70,
     "metadata": {},
     "output_type": "execute_result"
    }
   ],
   "source": [
    "matrix_multiplication(sps.uniform.rvs(size=(10, 20)), sps.uniform.rvs(size=(20, 30))).shape"
   ]
  },
  {
   "cell_type": "markdown",
   "metadata": {},
   "source": [
    "Проверьте правильность реализации на случайных матрицах. Должен получится ноль."
   ]
  },
  {
   "cell_type": "code",
   "execution_count": 72,
   "metadata": {
    "collapsed": false
   },
   "outputs": [
    {
     "data": {
      "text/plain": [
       "1.0524914273446484e-13"
      ]
     },
     "execution_count": 72,
     "metadata": {},
     "output_type": "execute_result"
    }
   ],
   "source": [
    "A = sps.uniform.rvs(size=(10, 20))\n",
    "B = sps.uniform.rvs(size=(20, 30))\n",
    "np.abs(matrix_multiplication(A, B) - A @ B).sum()"
   ]
  },
  {
   "cell_type": "markdown",
   "metadata": {},
   "source": [
    "А вот в таком стиле вы присылали бы нам свои работы, если не стали бы делать это задание."
   ]
  },
  {
   "cell_type": "code",
   "execution_count": 73,
   "metadata": {
    "collapsed": true
   },
   "outputs": [],
   "source": [
    "def stupid_matrix_multiplication(A, B):\n",
    "    C = [[0 for j in range(len(B[0]))] for i in range(len(A))]\n",
    "    for i in range(len(A)):\n",
    "        for j in range(len(B[0])):\n",
    "            for k in range(len(B)):\n",
    "                C[i][j] += A[i][k] * B[k][j]\n",
    "    return C"
   ]
  },
  {
   "cell_type": "markdown",
   "metadata": {},
   "source": [
    "Проверьте, насколько быстрее работает ваш код по сравнению с неэффективной реализацией `stupid_matrix_multiplication`. Эффективный код должен работать почти в 200 раз быстрее. Для примера посмотрите также, насколько быстрее работают встроенные `numpy`-функции."
   ]
  },
  {
   "cell_type": "code",
   "execution_count": 74,
   "metadata": {
    "collapsed": false
   },
   "outputs": [
    {
     "name": "stdout",
     "output_type": "stream",
     "text": [
      "CPU times: user 141 ms, sys: 198 ms, total: 339 ms\n",
      "Wall time: 339 ms\n",
      "CPU times: user 2.81 ms, sys: 108 µs, total: 2.92 ms\n",
      "Wall time: 738 µs\n",
      "CPU times: user 2.97 ms, sys: 164 µs, total: 3.13 ms\n",
      "Wall time: 718 µs\n",
      "CPU times: user 17.5 s, sys: 138 ms, total: 17.7 s\n",
      "Wall time: 17.7 s\n"
     ]
    }
   ],
   "source": [
    "A = sps.uniform.rvs(size=(400, 200))\n",
    "B = sps.uniform.rvs(size=(200, 300))\n",
    "\n",
    "%time C1 = matrix_multiplication(A, B)\n",
    "%time C2 = A @ B  # python 3.5\n",
    "%time C3 = np.matrix(A) * np.matrix(B)\n",
    "%time C4 = stupid_matrix_multiplication(A, B)"
   ]
  },
  {
   "cell_type": "markdown",
   "metadata": {},
   "source": [
    "Ниже для примера приведена полная реализация функции. Ваc мы, конечно, не будем требовать проверять входные данные на корректность, но документации к функциям нужно писать."
   ]
  },
  {
   "cell_type": "code",
   "execution_count": 75,
   "metadata": {
    "collapsed": true
   },
   "outputs": [],
   "source": [
    "def matrix_multiplication(A, B):\n",
    "    '''Возвращает матрицу, которая является результатом\n",
    "    матричного умножения матриц A и B.\n",
    "    \n",
    "    '''\n",
    "    \n",
    "    # Если A или B имеют другой тип, нужно выполнить преобразование типов\n",
    "    A = np.array(A)\n",
    "    B = np.array(B)\n",
    "    \n",
    "    # Проверка данных входных данных на корректность\n",
    "    assert A.ndim == 2 and B.ndim == 2, 'Размер матриц не равен 2'\n",
    "    assert A.shape[1] == B.shape[0], ('Матрицы размерностей '\n",
    "                                      '{} и {} неперемножаемы'.format(A.shape,\n",
    "                                                                      B.shape))\n",
    "    B_tmp = np.tile(B.T, (1, A.shape[0])).reshape(np.array([B.shape[1], 1]) * np.array(A.shape))\n",
    "    A_tmp = np.tile(A, (B.shape[1], 1))\n",
    "    C = (A_tmp * B_tmp).sum(axis=1).reshape((B.shape[1], A.shape[0])).T\n",
    "    return C"
   ]
  },
  {
   "cell_type": "markdown",
   "metadata": {},
   "source": [
    "**Задача 2.** Напишите функцию, которая по входной последовательности $X = (X_1, ..., X_n)$ строит последовательность $S = (S_1, ..., S_n)$, где $S_k = \\frac{X_1 + ... + X_k}{k}$.  *Авторское решение занимает одну строчку.*"
   ]
  },
  {
   "cell_type": "code",
   "execution_count": 76,
   "metadata": {
    "collapsed": true
   },
   "outputs": [],
   "source": [
    "def cumavg(X):\n",
    "    return np.cumsum(X) / np.arange(1, len(X) + 1, dtype=int)"
   ]
  },
  {
   "cell_type": "markdown",
   "metadata": {},
   "source": [
    "Постройте график зависимости $S_k$ от $k$. График должен быть в виде ломанной линии с достаточно крупными точками. Размер фигуры 15 на 5, сетка в виде пунктирной линии."
   ]
  },
  {
   "cell_type": "code",
   "execution_count": 77,
   "metadata": {
    "collapsed": false
   },
   "outputs": [
    {
     "data": {
      "image/png": "[encoded data removed]",
      "text/plain": [
       "<matplotlib.figure.Figure at 0x10ee37c50>"
      ]
     },
     "metadata": {},
     "output_type": "display_data"
    }
   ],
   "source": [
    "S = cumavg(sps.uniform.rvs(size=100))\n",
    "\n",
    "plt.figure(figsize=(15, 5))\n",
    "plt.plot(np.arange(1, len(S) + 1, dtype=int), S, '-o')\n",
    "plt.xlabel(\"$X_k$\")\n",
    "plt.ylabel(\"$S_k$\")\n",
    "plt.grid(ls='--')\n",
    "plt.show()"
   ]
  },
  {
   "cell_type": "markdown",
   "metadata": {},
   "source": [
    "Проверьте корректность работы реализации, а также ее эффективность. Эффективный код должен работать в 50 раз быстрее."
   ]
  },
  {
   "cell_type": "code",
   "execution_count": 78,
   "metadata": {
    "collapsed": false
   },
   "outputs": [
    {
     "name": "stdout",
     "output_type": "stream",
     "text": [
      "CPU times: user 90.4 ms, sys: 51.1 ms, total: 141 ms\n",
      "Wall time: 141 ms\n",
      "CPU times: user 6.51 s, sys: 202 ms, total: 6.71 s\n",
      "Wall time: 6.74 s\n"
     ]
    },
    {
     "data": {
      "text/plain": [
       "0.0"
      ]
     },
     "execution_count": 78,
     "metadata": {},
     "output_type": "execute_result"
    }
   ],
   "source": [
    "def stupid_cumavg(X):\n",
    "    S = [0 for i in range(len(X))]\n",
    "    for i in range(len(X)):\n",
    "        S[i] = X[i] + S[i - 1]\n",
    "    for i in range(len(X)):\n",
    "        S[i] /= i + 1\n",
    "    return S\n",
    "\n",
    "X = sps.uniform.rvs(size=10 ** 7)\n",
    "\n",
    "%time S1 = cumavg(X)\n",
    "%time S2 = stupid_cumavg(X)\n",
    "\n",
    "np.abs(S1 - S2).sum()"
   ]
  },
  {
   "cell_type": "markdown",
   "metadata": {},
   "source": [
    "**Задача 3.** Дана матрица $A = (a_{ij})$ размера $n \\times m$. Вычислите величину $$\\frac{1}{m} \\sum_{j=1}^m \\min_{i=1, ..., n} a_{ij},$$ то есть средний минимум по столбцам. *Авторское решение занимает одну строчку.*"
   ]
  },
  {
   "cell_type": "code",
   "execution_count": 79,
   "metadata": {
    "collapsed": true
   },
   "outputs": [],
   "source": [
    "def avgmin(A):\n",
    "    return np.min(A, axis=0).mean()"
   ]
  },
  {
   "cell_type": "markdown",
   "metadata": {},
   "source": [
    "Проверьте корректность работы реализации, а также ее эффективность. Эффективный код должен работать почти в 200 раз быстрее. Обратите внимание, что разность чисел может быть не равна нулю из-за ошибок округления, но должна иметь малый порядок."
   ]
  },
  {
   "cell_type": "code",
   "execution_count": 80,
   "metadata": {
    "collapsed": false
   },
   "outputs": [
    {
     "name": "stdout",
     "output_type": "stream",
     "text": [
      "CPU times: user 59.9 ms, sys: 8.86 ms, total: 68.8 ms\n",
      "Wall time: 68.8 ms\n",
      "CPU times: user 14.3 s, sys: 71.4 ms, total: 14.4 s\n",
      "Wall time: 14.4 s\n",
      "8.94466792301e-19\n"
     ]
    }
   ],
   "source": [
    "def stupid_avgmin(A):\n",
    "    N, M = len(A), len(A[0])\n",
    "    min_col = [min([A[i][j] for i in range(N)]) for j in range(M)]\n",
    "    return sum(min_col) / M\n",
    "\n",
    "N, M = 5000, 10000\n",
    "A = sps.uniform.rvs(size=(N, M))\n",
    "\n",
    "%time S1 = avgmin(A)\n",
    "%time S2 = stupid_avgmin(A)\n",
    "\n",
    "print(np.abs(S1 - S2))"
   ]
  },
  {
   "cell_type": "markdown",
   "metadata": {},
   "source": [
    "**Задача 4.** Дан массив $X$. Требуется построить новый массив, в котором все четные элементы $X$ заменить на число $v$ (если оно не указано, то на ноль). Все нечетные элементы исходного массива нужно возвести в квадрат и записать в обратном порядке относительно позиций этих элементов. Массив $X$ при этом должен остаться без изменений."
   ]
  },
  {
   "cell_type": "code",
   "execution_count": 100,
   "metadata": {
    "collapsed": false
   },
   "outputs": [],
   "source": [
    "def func4(X, v=0):\n",
    "    responce_X = X.copy()\n",
    "    responce_X[responce_X % 2 == 0] = v\n",
    "    responce_X[responce_X % 2 == 1]  = (responce_X[responce_X % 2 == 1] ** 2)[::-1]\n",
    "    return responce_X"
   ]
  },
  {
   "cell_type": "markdown",
   "metadata": {},
   "source": [
    "Проверьте корректность работы реализации, а также ее эффективность. Эффективный код должен работать в 20 раз быстрее."
   ]
  },
  {
   "cell_type": "code",
   "execution_count": 102,
   "metadata": {
    "collapsed": false
   },
   "outputs": [
    {
     "name": "stdout",
     "output_type": "stream",
     "text": [
      "CPU times: user 849 ms, sys: 141 ms, total: 990 ms\n",
      "Wall time: 996 ms\n",
      "CPU times: user 7.29 s, sys: 283 ms, total: 7.57 s\n",
      "Wall time: 7.61 s\n"
     ]
    },
    {
     "data": {
      "text/plain": [
       "0"
      ]
     },
     "execution_count": 102,
     "metadata": {},
     "output_type": "execute_result"
    }
   ],
   "source": [
    "def stupid_func4(X, v=0):\n",
    "    odd = [elem ** 2 for elem in X if elem % 2]\n",
    "    \n",
    "    new_X = []\n",
    "    j = len(odd) - 1\n",
    "    for i in range(len(X)):\n",
    "        if X[i] % 2:\n",
    "            new_X.append(odd[j])\n",
    "            j -= 1\n",
    "        else:\n",
    "            new_X.append(v)\n",
    "    \n",
    "    return new_X\n",
    "\n",
    "X = sps.randint.rvs(size=10 ** 7, low=0, high=100)\n",
    "\n",
    "%time A1 = func4(X)\n",
    "%time A2 = stupid_func4(X)\n",
    "\n",
    "np.abs(A1 - A2).sum()"
   ]
  },
  {
   "cell_type": "markdown",
   "metadata": {},
   "source": [
    "**Вопрос:** За счет чего достигается такая эффективность методов `numpy`?\n",
    "\n",
    "**Ответ:** Львиная доля времени тратится в библиотечных функциях, написанных на C."
   ]
  }
 ],
 "metadata": {
  "kernelspec": {
   "display_name": "Python [default]",
   "language": "python",
   "name": "python3"
  },
  "language_info": {
   "codemirror_mode": {
    "name": "ipython",
    "version": 3
   },
   "file_extension": ".py",
   "mimetype": "text/x-python",
   "name": "python",
   "nbconvert_exporter": "python",
   "pygments_lexer": "ipython3",
   "version": "3.5.2"
  }
 },
 "nbformat": 4,
 "nbformat_minor": 0
}
